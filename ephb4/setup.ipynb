{
 "cells": [
  {
   "cell_type": "markdown",
   "metadata": {},
   "source": [
    "# Set Up the EphB4 Calculations\n",
    "\n",
    "This involves splitting the sdf file into its components and creating the required directories"
   ]
  },
  {
   "cell_type": "code",
   "execution_count": 1,
   "metadata": {},
   "outputs": [],
   "source": [
    "from pathlib import Path\n",
    "import os\n",
    "\n",
    "INP = \"../../master_input\""
   ]
  },
  {
   "cell_type": "code",
   "execution_count": 25,
   "metadata": {},
   "outputs": [],
   "source": [
    "def make_inp_dir(name: str, sdf: list[str]) -> None:\n",
    "    inp_dir = f\"{name}/input\"\n",
    "\n",
    "    # Make the input directory\n",
    "    os.mkdir(f\"{name}\")\n",
    "    os.mkdir(f\"{name}/input\")\n",
    "\n",
    "    # Make soft links to the generic input files\n",
    "    os.symlink(f\"{INP}/protein.pdb\", f\"{inp_dir}/protein.pdb\")\n",
    "    os.symlink(f\"{INP}/run_somd.sh\", f\"{inp_dir}/run_somd.sh\")\n",
    "    os.symlink(f\"{INP}/template_config.cfg\", f\"{inp_dir}/template_config.cfg\")\n",
    "\n",
    "    # Write the sdf file\n",
    "    with open(f\"{inp_dir}/ligand.sdf\", \"wt\") as f:\n",
    "        f.writelines(sdf)"
   ]
  },
  {
   "cell_type": "code",
   "execution_count": 26,
   "metadata": {},
   "outputs": [],
   "source": [
    "def split_sdf(multi_sdf: str) -> None:\n",
    "    with open(multi_sdf, \"rt\") as f:\n",
    "        lines = f.readlines()\n",
    "        lig_name = \"\"\n",
    "        current_lines = []\n",
    "\n",
    "        # Iterate \n",
    "        for line in lines:\n",
    "\n",
    "            if \"CHEMBL\" in line:\n",
    "                lig_name = line.strip()\n",
    "\n",
    "            # Append the line to current list\n",
    "            current_lines.append(line)\n",
    "\n",
    "            if \"$$$$\" in line:\n",
    "                make_inp_dir(name = lig_name, sdf = current_lines)\n",
    "                current_lines = []\n",
    "\n"
   ]
  },
  {
   "cell_type": "code",
   "execution_count": 27,
   "metadata": {},
   "outputs": [],
   "source": [
    "split_sdf(\"master_input/ephb4_chembl_3D.sdf\")"
   ]
  },
  {
   "cell_type": "markdown",
   "metadata": {},
   "source": [
    "# Get the Experimental Free Energies of Binding"
   ]
  },
  {
   "cell_type": "code",
   "execution_count": 6,
   "metadata": {},
   "outputs": [],
   "source": [
    "import numpy as np"
   ]
  },
  {
   "cell_type": "code",
   "execution_count": 7,
   "metadata": {},
   "outputs": [],
   "source": [
    "def ic50_to_dg(ic50: float) -> float:\n",
    "    \"\"\"Convert IC50 to dG bind (in kcal / mol) at 298 K\"\"\"\n",
    "    # Assume substrate concentration = Km\n",
    "    ic50 /= 2\n",
    "    # Convert to dG (standard conc 1 M)\n",
    "    return 0.5922 * np.log(ic50)"
   ]
  },
  {
   "cell_type": "code",
   "execution_count": 18,
   "metadata": {},
   "outputs": [],
   "source": [
    "def write_exp_dgs(sdf_file: str, output_file:str) -> None:\n",
    "    \"\"\"Write out the experimental free energies based on the SDF pIC50s\"\"\"\n",
    "    with open(sdf_file, \"rt\") as f:\n",
    "        lines = f.readlines()\n",
    "        lig_name = \"\"\n",
    "        lines_to_write = []\n",
    "\n",
    "        # Iterate \n",
    "        for i, line in enumerate(lines):\n",
    "\n",
    "            if \"CHEMBL\" in line:\n",
    "                lig_name = line.strip()\n",
    "\n",
    "            if \"paper_pIC50\" in line:\n",
    "                pic50 = float(lines[i+1].strip())\n",
    "                ic50 = 10**(-pic50)\n",
    "                dg = ic50_to_dg(ic50)\n",
    "                # Use 0.5 kcal/mol as a reasonable experimental error\n",
    "                lines_to_write.append(f\"{lig_name},{lig_name},{dg},{0.5},0\\n\")\n",
    "\n",
    "        # Write output\n",
    "        with open(output_file, \"wt\") as f:\n",
    "            f.write(\"calc_base_dir,name,exp_dg,exp_er,calc_cor\\n\")\n",
    "            f.writelines(lines_to_write)"
   ]
  },
  {
   "cell_type": "code",
   "execution_count": 19,
   "metadata": {},
   "outputs": [],
   "source": [
    "write_exp_dgs(sdf_file=\"master_input/ephb4_chembl_3D.sdf\", output_file=\"input/exp_dgs.csv\")"
   ]
  },
  {
   "cell_type": "code",
   "execution_count": null,
   "metadata": {},
   "outputs": [],
   "source": []
  }
 ],
 "metadata": {
  "kernelspec": {
   "display_name": "Python 3",
   "language": "python",
   "name": "python3"
  },
  "language_info": {
   "codemirror_mode": {
    "name": "ipython",
    "version": 3
   },
   "file_extension": ".py",
   "mimetype": "text/x-python",
   "name": "python",
   "nbconvert_exporter": "python",
   "pygments_lexer": "ipython3",
   "version": "3.10.14"
  }
 },
 "nbformat": 4,
 "nbformat_minor": 2
}
